{
  "nbformat": 4,
  "nbformat_minor": 0,
  "metadata": {
    "colab": {
      "provenance": [],
      "machine_shape": "hm"
    },
    "kernelspec": {
      "name": "python3",
      "display_name": "Python 3"
    },
    "language_info": {
      "name": "python"
    },
    "accelerator": "GPU",
    "gpuClass": "premium"
  },
  "cells": [
    {
      "cell_type": "code",
      "execution_count": null,
      "metadata": {
        "id": "6N4wGMW9xGu-"
      },
      "outputs": [],
      "source": [
        "!pip install tensorflow==2.11.0 opencv-python mediapipe sklearn matplotlib\n",
        "import cv2\n",
        "import mediapipe as mp\n",
        "import numpy as np\n",
        "import os\n",
        "import tensorflow as tf\n",
        "from google.colab.patches import cv2_imshow"
      ]
    },
    {
      "cell_type": "markdown",
      "source": [
        "### Preprocess data, add labels"
      ],
      "metadata": {
        "id": "oC9tKJz3VK3I"
      }
    },
    {
      "cell_type": "code",
      "source": [
        "actions = np.array(['fidgety','cramped_synchronized'])"
      ],
      "metadata": {
        "id": "6BL4smZDywVM"
      },
      "execution_count": 4,
      "outputs": []
    },
    {
      "cell_type": "code",
      "source": [
        "from sklearn.model_selection import train_test_split\n",
        "from tensorflow.keras.utils import to_categorical"
      ],
      "metadata": {
        "id": "7U5cK2B1xLQy"
      },
      "execution_count": 5,
      "outputs": []
    },
    {
      "cell_type": "code",
      "source": [
        "#create a dictionary\n",
        "label_map = {label:num for num, label in enumerate(actions)}"
      ],
      "metadata": {
        "id": "dpgeKmJNy9IR"
      },
      "execution_count": 6,
      "outputs": []
    },
    {
      "cell_type": "code",
      "source": [
        "DATA_PATH = '/content/drive/MyDrive/Keypoints data/MP_data' \n",
        "actions = np.array(['cramped_synchronized','fidgety'])"
      ],
      "metadata": {
        "id": "XhliJQjczJFT"
      },
      "execution_count": 7,
      "outputs": []
    },
    {
      "cell_type": "code",
      "source": [
        "sequence_length = 120"
      ],
      "metadata": {
        "id": "EoFIBVII0oCV"
      },
      "execution_count": 82,
      "outputs": []
    },
    {
      "cell_type": "code",
      "source": [
        "sequences, labels = [], []\n",
        "no_sequences = 53 \n",
        "action = 'cramped_synchronized'\n",
        "for sequence in range(no_sequences):\n",
        "  window =[]\n",
        "  for frame_num in range (sequence_length):\n",
        "    res = np.load(os.path.join(DATA_PATH, action, str(sequence), str(frame_num) + '.npy'))\n",
        "    window.append(res)\n",
        "  sequences.append(window)\n",
        "  labels.append(label_map[action])"
      ],
      "metadata": {
        "id": "D0qjUYB90Tgi"
      },
      "execution_count": 112,
      "outputs": []
    },
    {
      "cell_type": "code",
      "source": [
        "no_sequences = 53\n",
        "action = 'fidgety'\n",
        "for sequence in range(no_sequences):\n",
        "  window =[]\n",
        "  for frame_num in range (sequence_length):\n",
        "    res = np.load(os.path.join(DATA_PATH, action, str(sequence), str(frame_num) + '.npy'))\n",
        "    window.append(res)\n",
        "  sequences.append(window)\n",
        "  labels.append(label_map[action])"
      ],
      "metadata": {
        "id": "OCpraTWkBp1P"
      },
      "execution_count": 84,
      "outputs": []
    },
    {
      "cell_type": "code",
      "source": [
        "#/content/drive/MyDrive/Keypoints data/MP_data/cramped_synchronized\n",
        "#/content/drive/MyDrive/Keypoints data/MP_data/fidgety"
      ],
      "metadata": {
        "id": "LA4Xqrfgy8bs"
      },
      "execution_count": null,
      "outputs": []
    },
    {
      "cell_type": "code",
      "source": [
        "np.array(sequences).shape\n"
      ],
      "metadata": {
        "colab": {
          "base_uri": "https://localhost:8080/"
        },
        "id": "QBKh51XFzANK",
        "outputId": "1b9b952e-477c-4e2d-b8d6-fd1f88cab29d"
      },
      "execution_count": 85,
      "outputs": [
        {
          "output_type": "execute_result",
          "data": {
            "text/plain": [
              "(134, 120, 132)"
            ]
          },
          "metadata": {},
          "execution_count": 85
        }
      ]
    },
    {
      "cell_type": "code",
      "source": [
        "X = np.array(sequences)"
      ],
      "metadata": {
        "id": "k7Bcn6kwQFfO"
      },
      "execution_count": 86,
      "outputs": []
    },
    {
      "cell_type": "code",
      "source": [
        "X.shape\n"
      ],
      "metadata": {
        "colab": {
          "base_uri": "https://localhost:8080/"
        },
        "id": "I1plYUbFQLx2",
        "outputId": "c6c09469-c940-419b-d196-09ddd4f781e5"
      },
      "execution_count": 87,
      "outputs": [
        {
          "output_type": "execute_result",
          "data": {
            "text/plain": [
              "(134, 120, 132)"
            ]
          },
          "metadata": {},
          "execution_count": 87
        }
      ]
    },
    {
      "cell_type": "code",
      "source": [
        "y = to_categorical(labels).astype(int)"
      ],
      "metadata": {
        "id": "0iWc-QaOQU-P"
      },
      "execution_count": 88,
      "outputs": []
    },
    {
      "cell_type": "code",
      "source": [
        "y"
      ],
      "metadata": {
        "id": "frIaU4_VQvL3"
      },
      "execution_count": null,
      "outputs": []
    },
    {
      "cell_type": "code",
      "source": [
        "np.array(labels).shape"
      ],
      "metadata": {
        "colab": {
          "base_uri": "https://localhost:8080/"
        },
        "id": "5m4IBkvCR144",
        "outputId": "0df0991b-9f22-4378-b44e-614977817535"
      },
      "execution_count": 92,
      "outputs": [
        {
          "output_type": "execute_result",
          "data": {
            "text/plain": [
              "(134,)"
            ]
          },
          "metadata": {},
          "execution_count": 92
        }
      ]
    },
    {
      "cell_type": "code",
      "source": [
        "x_train, x_test, y_train, y_test = train_test_split(X, y, test_size =0.05)"
      ],
      "metadata": {
        "id": "qiZeIg3yT-_Z"
      },
      "execution_count": 93,
      "outputs": []
    },
    {
      "cell_type": "code",
      "source": [
        "y_test.shape"
      ],
      "metadata": {
        "colab": {
          "base_uri": "https://localhost:8080/"
        },
        "id": "y11enODIUlmj",
        "outputId": "6f4e22e3-9f54-4435-efe0-6833da2eb48b"
      },
      "execution_count": 96,
      "outputs": [
        {
          "output_type": "execute_result",
          "data": {
            "text/plain": [
              "(7, 2)"
            ]
          },
          "metadata": {},
          "execution_count": 96
        }
      ]
    },
    {
      "cell_type": "markdown",
      "source": [
        "### Build and train LSTM Neural Network"
      ],
      "metadata": {
        "id": "4BTKyOpoVA7_"
      }
    },
    {
      "cell_type": "code",
      "source": [
        "from tensorflow.keras.models import Sequential\n",
        "from tensorflow.keras.layers import LSTM, Dense\n",
        "from tensorflow.keras.callbacks import TensorBoard"
      ],
      "metadata": {
        "id": "P2J4pIOnVITR"
      },
      "execution_count": 99,
      "outputs": []
    },
    {
      "cell_type": "code",
      "source": [
        "#create log directory and set up tensorflow callback\n",
        "log_dir = os.path.join('Logs')\n",
        "tb_callback = TensorBoard (log_dir = log_dir)"
      ],
      "metadata": {
        "id": "gcnyp6YHXTQf"
      },
      "execution_count": 102,
      "outputs": []
    },
    {
      "cell_type": "code",
      "source": [
        "model = Sequential()\n",
        "model.add(LSTM(64,return_sequences=True, activation='relu', input_shape=(120,132)))\n",
        "model.add(LSTM(128,return_sequences=True, activation='relu')) #true because there is another layer next\n",
        "model.add(LSTM(64,return_sequences=False, activation='relu')) # false because this is the last layer\n",
        "model.add(Dense(64, activation='relu'))\n",
        "model.add(Dense(32, activation='relu'))\n",
        "model.add(Dense(actions.shape[0], activation='softmax'))"
      ],
      "metadata": {
        "id": "oqy_ECr7XV6i"
      },
      "execution_count": 104,
      "outputs": []
    },
    {
      "cell_type": "code",
      "source": [
        "model.compile(optimizer='Adam', loss = 'categorical_crossentropy', metrics=['categorical_accuracy'])"
      ],
      "metadata": {
        "id": "slLzJ_VCcU_u"
      },
      "execution_count": 105,
      "outputs": []
    },
    {
      "cell_type": "code",
      "source": [
        "#train the model\n",
        "model.fit(x_train,y_train, epochs = 15, callbacks=[tb_callback])"
      ],
      "metadata": {
        "colab": {
          "base_uri": "https://localhost:8080/"
        },
        "id": "w20Os-bQdPKS",
        "outputId": "d877ecd3-a995-4012-9046-2dec9373f5c0"
      },
      "execution_count": 109,
      "outputs": [
        {
          "output_type": "stream",
          "name": "stdout",
          "text": [
            "Epoch 1/15\n",
            "4/4 [==============================] - 1s 330ms/step - loss: nan - categorical_accuracy: 0.5906\n",
            "Epoch 2/15\n",
            "4/4 [==============================] - 1s 332ms/step - loss: nan - categorical_accuracy: 0.5906\n",
            "Epoch 3/15\n",
            "4/4 [==============================] - 2s 416ms/step - loss: nan - categorical_accuracy: 0.5906\n",
            "Epoch 4/15\n",
            "4/4 [==============================] - 2s 609ms/step - loss: nan - categorical_accuracy: 0.5906\n",
            "Epoch 5/15\n",
            "4/4 [==============================] - 2s 605ms/step - loss: nan - categorical_accuracy: 0.5906\n",
            "Epoch 6/15\n",
            "4/4 [==============================] - 2s 598ms/step - loss: nan - categorical_accuracy: 0.5906\n",
            "Epoch 7/15\n",
            "4/4 [==============================] - 2s 379ms/step - loss: nan - categorical_accuracy: 0.5906\n",
            "Epoch 8/15\n",
            "4/4 [==============================] - 1s 335ms/step - loss: nan - categorical_accuracy: 0.5906\n",
            "Epoch 9/15\n",
            "4/4 [==============================] - 1s 325ms/step - loss: nan - categorical_accuracy: 0.5906\n",
            "Epoch 10/15\n",
            "4/4 [==============================] - 1s 341ms/step - loss: nan - categorical_accuracy: 0.5906\n",
            "Epoch 11/15\n",
            "4/4 [==============================] - 2s 443ms/step - loss: nan - categorical_accuracy: 0.5906\n",
            "Epoch 12/15\n",
            "4/4 [==============================] - 2s 603ms/step - loss: nan - categorical_accuracy: 0.5906\n",
            "Epoch 13/15\n",
            "4/4 [==============================] - 2s 433ms/step - loss: nan - categorical_accuracy: 0.5906\n",
            "Epoch 14/15\n",
            "4/4 [==============================] - 1s 327ms/step - loss: nan - categorical_accuracy: 0.5906\n",
            "Epoch 15/15\n",
            "4/4 [==============================] - 1s 324ms/step - loss: nan - categorical_accuracy: 0.5906\n"
          ]
        },
        {
          "output_type": "execute_result",
          "data": {
            "text/plain": [
              "<keras.callbacks.History at 0x7f42ddc1fe20>"
            ]
          },
          "metadata": {},
          "execution_count": 109
        }
      ]
    },
    {
      "cell_type": "code",
      "source": [
        "model.summary()"
      ],
      "metadata": {
        "colab": {
          "base_uri": "https://localhost:8080/"
        },
        "id": "_mWQGjpKdQGA",
        "outputId": "ef47efb3-920a-44cd-afcc-56e8e543f73d"
      },
      "execution_count": 110,
      "outputs": [
        {
          "output_type": "stream",
          "name": "stdout",
          "text": [
            "Model: \"sequential_1\"\n",
            "_________________________________________________________________\n",
            " Layer (type)                Output Shape              Param #   \n",
            "=================================================================\n",
            " lstm_3 (LSTM)               (None, 120, 64)           50432     \n",
            "                                                                 \n",
            " lstm_4 (LSTM)               (None, 120, 128)          98816     \n",
            "                                                                 \n",
            " lstm_5 (LSTM)               (None, 64)                49408     \n",
            "                                                                 \n",
            " dense_3 (Dense)             (None, 64)                4160      \n",
            "                                                                 \n",
            " dense_4 (Dense)             (None, 32)                2080      \n",
            "                                                                 \n",
            " dense_5 (Dense)             (None, 2)                 66        \n",
            "                                                                 \n",
            "=================================================================\n",
            "Total params: 204,962\n",
            "Trainable params: 204,962\n",
            "Non-trainable params: 0\n",
            "_________________________________________________________________\n"
          ]
        }
      ]
    },
    {
      "cell_type": "code",
      "source": [
        "model.predict(x_test)"
      ],
      "metadata": {
        "id": "QZ_UMli6gCkO",
        "outputId": "3d3324c2-22ba-4127-f141-bb120f9fb4e6",
        "colab": {
          "base_uri": "https://localhost:8080/"
        }
      },
      "execution_count": 111,
      "outputs": [
        {
          "output_type": "stream",
          "name": "stdout",
          "text": [
            "1/1 [==============================] - 1s 594ms/step\n"
          ]
        },
        {
          "output_type": "execute_result",
          "data": {
            "text/plain": [
              "array([[nan, nan],\n",
              "       [nan, nan],\n",
              "       [nan, nan],\n",
              "       [nan, nan],\n",
              "       [nan, nan],\n",
              "       [nan, nan],\n",
              "       [nan, nan]], dtype=float32)"
            ]
          },
          "metadata": {},
          "execution_count": 111
        }
      ]
    }
  ]
}